{
  "nbformat": 4,
  "nbformat_minor": 0,
  "metadata": {
    "colab": {
      "name": "Practico_3.ipynb",
      "provenance": [],
      "collapsed_sections": [],
      "include_colab_link": true
    },
    "kernelspec": {
      "name": "python3",
      "display_name": "Python 3"
    },
    "language_info": {
      "name": "python"
    }
  },
  "cells": [
    {
      "cell_type": "markdown",
      "metadata": {
        "id": "view-in-github",
        "colab_type": "text"
      },
      "source": [
        "<a href=\"https://colab.research.google.com/github/eugemoris/Aprendizaje_de_maquina/blob/main/Practico_3.ipynb\" target=\"_parent\"><img src=\"https://colab.research.google.com/assets/colab-badge.svg\" alt=\"Open In Colab\"/></a>"
      ]
    },
    {
      "cell_type": "code",
      "metadata": {
        "id": "YOAn_P8LYF-7"
      },
      "source": [
        "from sklearn.datasets import make_blobs\n",
        "from sklearn.model_selection import train_test_split\n",
        "from sklearn.metrics import plot_confusion_matrix\n",
        "from sklearn.metrics import accuracy_score, precision_score,f1_score\n",
        "import matplotlib.pyplot as plt\n",
        "from sklearn import neighbors\n",
        "import numpy as np"
      ],
      "execution_count": 2,
      "outputs": []
    },
    {
      "cell_type": "code",
      "metadata": {
        "colab": {
          "base_uri": "https://localhost:8080/",
          "height": 300
        },
        "id": "1-FfVe_KjbSR",
        "outputId": "dd237a89-104f-4b3b-95b3-522256fcea13"
      },
      "source": [
        "# @title ROC curve {run:\"auto\"}\n",
        "\n",
        "def plot_blob(x1,x2):\n",
        "\n",
        "  plt.scatter(x1[:,0],x1[:,1])\n",
        "  plt.scatter(x2[:,0],x2[:,1])\n",
        "\n",
        "mu_x1 = 4 #@param {type:\"slider\", min:3, max:8, step:1}\n",
        "std_x1 = 3.3 #@param {type:\"slider\", min:0, max:6, step:0.1}\n",
        "mu_x2 = 9 #@param {type:\"slider\", min:5, max:11, step:0.5}\n",
        "std_x2 = 3.4 #@param {type:\"slider\", min:0, max:6, step:0.1}\n",
        "\n",
        "def gauss_2d(mu, sigma):\n",
        "    x = np.random.normal(mu, sigma,100)\n",
        "    y = np.random.normal(mu, sigma,100)\n",
        "    data= np.array((x,y))\n",
        "    data = data.reshape((100,2))\n",
        "    return data\n",
        "\n",
        "x1 = gauss_2d(mu_x1,std_x1)\n",
        "y1 = np.zeros((100))\n",
        "\n",
        "x2 = gauss_2d(mu_x2,std_x2)\n",
        "y2 =np.ones((100))\n",
        "\n",
        "X = np.concatenate((x1,x2),axis=0)\n",
        "print(X.shape)\n",
        "y_true = np.concatenate((y1,y2))\n",
        "print(y_true.shape)\n",
        "\n",
        "\n",
        "X_train, X_test, y_train, y_test = train_test_split(X, y_true, test_size=0.50, random_state=42)\n",
        "\n",
        "\n",
        "plot_blob(x1,x2)"
      ],
      "execution_count": 29,
      "outputs": [
        {
          "output_type": "stream",
          "name": "stdout",
          "text": [
            "(200, 2)\n",
            "(200,)\n"
          ]
        },
        {
          "output_type": "display_data",
          "data": {
            "image/png": "[encoded data removed]",
            "text/plain": [
              "<Figure size 432x288 with 1 Axes>"
            ]
          },
          "metadata": {
            "needs_background": "light"
          }
        }
      ]
    },
    {
      "cell_type": "code",
      "metadata": {
        "colab": {
          "base_uri": "https://localhost:8080/"
        },
        "id": "1l-uVZYjaLRZ",
        "outputId": "6ba2d02e-d132-493c-c99d-39c9e37c9311"
      },
      "source": [
        "# @title knn {run:\"auto\"}\n",
        "\n",
        "def algorithm_classification(predict):\n",
        "\n",
        "  print('Accuracy: ', accuracy_score(y_test,predict))\n",
        "  print('Precision: ', precision_score(y_test,predict))\n",
        "  print('F1 score: ', f1_score(y_test,predict))\n",
        "\n",
        "\n",
        "n_neighbors = 2 #@param {type:\"slider\", min:1, max:10, step:1}\n",
        "\n",
        "#KNN\n",
        "knn = neighbors.KNeighborsClassifier(n_neighbors=n_neighbors)\n",
        "knn.fit(X_train, y_train)\n",
        "predict = knn.predict(X_test)\n",
        "\n",
        "algorithm_classification(predict)"
      ],
      "execution_count": 31,
      "outputs": [
        {
          "output_type": "stream",
          "name": "stdout",
          "text": [
            "Accuracy:  0.81\n",
            "Precision:  0.9166666666666666\n",
            "F1 score:  0.7764705882352941\n"
          ]
        }
      ]
    },
    {
      "cell_type": "code",
      "metadata": {
        "colab": {
          "base_uri": "https://localhost:8080/",
          "height": 330
        },
        "id": "ghf1hLQkmchB",
        "outputId": "9afbd722-316b-4038-e055-b4ff94606587"
      },
      "source": [
        "disp = plot_confusion_matrix(knn, X_test, y_test,\n",
        "                              display_labels=['x1','x2'],\n",
        "                              cmap=plt.cm.Blues,)\n",
        "disp.ax_.set_title('Confusion matriz')\n",
        "\n",
        "print(disp.confusion_matrix)\n"
      ],
      "execution_count": 32,
      "outputs": [
        {
          "output_type": "stream",
          "name": "stdout",
          "text": [
            "[[48  3]\n",
            " [16 33]]\n"
          ]
        },
        {
          "output_type": "display_data",
          "data": {
            "image/png": "[encoded data removed]",
            "text/plain": [
              "<Figure size 432x288 with 2 Axes>"
            ]
          },
          "metadata": {
            "needs_background": "light"
          }
        }
      ]
    },
    {
      "cell_type": "code",
      "metadata": {
        "colab": {
          "base_uri": "https://localhost:8080/",
          "height": 313
        },
        "id": "wT0MhNvzn9Tm",
        "outputId": "459da661-fd17-4424-bbcc-02a8e94ad694"
      },
      "source": [
        "import pandas as pd\n",
        "#leemos el dataset\n",
        "attributes_spotify = pd.read_csv(\"https://raw.githubusercontent.com/emmanueliarussi/DataScienceCapstone/master/3_MidtermProjects/ProjectBOM/data/attributes_spotify.csv\")\n",
        "attributes_spotify.head()"
      ],
      "execution_count": 21,
      "outputs": [
        {
          "output_type": "execute_result",
          "data": {
            "text/html": [
              "<div>\n",
              "<style scoped>\n",
              "    .dataframe tbody tr th:only-of-type {\n",
              "        vertical-align: middle;\n",
              "    }\n",
              "\n",
              "    .dataframe tbody tr th {\n",
              "        vertical-align: top;\n",
              "    }\n",
              "\n",
              "    .dataframe thead th {\n",
              "        text-align: right;\n",
              "    }\n",
              "</style>\n",
              "<table border=\"1\" class=\"dataframe\">\n",
              "  <thead>\n",
              "    <tr style=\"text-align: right;\">\n",
              "      <th></th>\n",
              "      <th>Unnamed: 0</th>\n",
              "      <th>acousticness</th>\n",
              "      <th>danceability</th>\n",
              "      <th>duration_ms</th>\n",
              "      <th>energy</th>\n",
              "      <th>instrumentalness</th>\n",
              "      <th>key</th>\n",
              "      <th>liveness</th>\n",
              "      <th>loudness</th>\n",
              "      <th>mode</th>\n",
              "      <th>speechiness</th>\n",
              "      <th>tempo</th>\n",
              "      <th>time_signature</th>\n",
              "      <th>valence</th>\n",
              "      <th>target</th>\n",
              "      <th>song_title</th>\n",
              "      <th>artist</th>\n",
              "    </tr>\n",
              "  </thead>\n",
              "  <tbody>\n",
              "    <tr>\n",
              "      <th>0</th>\n",
              "      <td>0</td>\n",
              "      <td>0.0102</td>\n",
              "      <td>0.833</td>\n",
              "      <td>204600</td>\n",
              "      <td>0.434</td>\n",
              "      <td>0.021900</td>\n",
              "      <td>2</td>\n",
              "      <td>0.1650</td>\n",
              "      <td>-8.795</td>\n",
              "      <td>1</td>\n",
              "      <td>0.4310</td>\n",
              "      <td>150.062</td>\n",
              "      <td>4.0</td>\n",
              "      <td>0.286</td>\n",
              "      <td>1</td>\n",
              "      <td>Mask Off</td>\n",
              "      <td>Future</td>\n",
              "    </tr>\n",
              "    <tr>\n",
              "      <th>1</th>\n",
              "      <td>1</td>\n",
              "      <td>0.1990</td>\n",
              "      <td>0.743</td>\n",
              "      <td>326933</td>\n",
              "      <td>0.359</td>\n",
              "      <td>0.006110</td>\n",
              "      <td>1</td>\n",
              "      <td>0.1370</td>\n",
              "      <td>-10.401</td>\n",
              "      <td>1</td>\n",
              "      <td>0.0794</td>\n",
              "      <td>160.083</td>\n",
              "      <td>4.0</td>\n",
              "      <td>0.588</td>\n",
              "      <td>1</td>\n",
              "      <td>Redbone</td>\n",
              "      <td>Childish Gambino</td>\n",
              "    </tr>\n",
              "    <tr>\n",
              "      <th>2</th>\n",
              "      <td>2</td>\n",
              "      <td>0.0344</td>\n",
              "      <td>0.838</td>\n",
              "      <td>185707</td>\n",
              "      <td>0.412</td>\n",
              "      <td>0.000234</td>\n",
              "      <td>2</td>\n",
              "      <td>0.1590</td>\n",
              "      <td>-7.148</td>\n",
              "      <td>1</td>\n",
              "      <td>0.2890</td>\n",
              "      <td>75.044</td>\n",
              "      <td>4.0</td>\n",
              "      <td>0.173</td>\n",
              "      <td>1</td>\n",
              "      <td>Xanny Family</td>\n",
              "      <td>Future</td>\n",
              "    </tr>\n",
              "    <tr>\n",
              "      <th>3</th>\n",
              "      <td>3</td>\n",
              "      <td>0.6040</td>\n",
              "      <td>0.494</td>\n",
              "      <td>199413</td>\n",
              "      <td>0.338</td>\n",
              "      <td>0.510000</td>\n",
              "      <td>5</td>\n",
              "      <td>0.0922</td>\n",
              "      <td>-15.236</td>\n",
              "      <td>1</td>\n",
              "      <td>0.0261</td>\n",
              "      <td>86.468</td>\n",
              "      <td>4.0</td>\n",
              "      <td>0.230</td>\n",
              "      <td>1</td>\n",
              "      <td>Master Of None</td>\n",
              "      <td>Beach House</td>\n",
              "    </tr>\n",
              "    <tr>\n",
              "      <th>4</th>\n",
              "      <td>4</td>\n",
              "      <td>0.1800</td>\n",
              "      <td>0.678</td>\n",
              "      <td>392893</td>\n",
              "      <td>0.561</td>\n",
              "      <td>0.512000</td>\n",
              "      <td>5</td>\n",
              "      <td>0.4390</td>\n",
              "      <td>-11.648</td>\n",
              "      <td>0</td>\n",
              "      <td>0.0694</td>\n",
              "      <td>174.004</td>\n",
              "      <td>4.0</td>\n",
              "      <td>0.904</td>\n",
              "      <td>1</td>\n",
              "      <td>Parallel Lines</td>\n",
              "      <td>Junior Boys</td>\n",
              "    </tr>\n",
              "  </tbody>\n",
              "</table>\n",
              "</div>"
            ],
            "text/plain": [
              "   Unnamed: 0  acousticness  ...      song_title            artist\n",
              "0           0        0.0102  ...        Mask Off            Future\n",
              "1           1        0.1990  ...         Redbone  Childish Gambino\n",
              "2           2        0.0344  ...    Xanny Family            Future\n",
              "3           3        0.6040  ...  Master Of None       Beach House\n",
              "4           4        0.1800  ...  Parallel Lines       Junior Boys\n",
              "\n",
              "[5 rows x 17 columns]"
            ]
          },
          "metadata": {},
          "execution_count": 21
        }
      ]
    },
    {
      "cell_type": "code",
      "metadata": {
        "id": "ya3VkSzzoPkX"
      },
      "source": [
        "Target = attributes_spotify[['target']]\n",
        "del attributes_spotify[\"target\"]\n",
        "\n",
        "#suponemos que las siguientes columnas no son necesarias\n",
        "del attributes_spotify[\"song_title\"]\n",
        "del attributes_spotify[\"artist\"]\n",
        "\n",
        "normalized_df=(attributes_spotify-attributes_spotify.mean())/attributes_spotify.std()"
      ],
      "execution_count": 22,
      "outputs": []
    },
    {
      "cell_type": "code",
      "metadata": {
        "colab": {
          "base_uri": "https://localhost:8080/"
        },
        "id": "DJ48UXyAtU1G",
        "outputId": "f6e14ff9-6609-408d-c080-fb5411a48bde"
      },
      "source": [
        "X_train, X_test, y_train, y_test = train_test_split(normalized_df, Target, test_size=0.30, random_state=42)\n",
        "\n",
        "\n",
        "knn = neighbors.KNeighborsClassifier(n_neighbors=3)\n",
        "knn.fit(X_train, y_train)"
      ],
      "execution_count": 8,
      "outputs": [
        {
          "output_type": "stream",
          "name": "stderr",
          "text": [
            "/usr/local/lib/python3.7/dist-packages/ipykernel_launcher.py:5: DataConversionWarning: A column-vector y was passed when a 1d array was expected. Please change the shape of y to (n_samples, ), for example using ravel().\n",
            "  \"\"\"\n"
          ]
        },
        {
          "output_type": "execute_result",
          "data": {
            "text/plain": [
              "KNeighborsClassifier(algorithm='auto', leaf_size=30, metric='minkowski',\n",
              "                     metric_params=None, n_jobs=None, n_neighbors=3, p=2,\n",
              "                     weights='uniform')"
            ]
          },
          "metadata": {},
          "execution_count": 8
        }
      ]
    },
    {
      "cell_type": "code",
      "metadata": {
        "colab": {
          "base_uri": "https://localhost:8080/"
        },
        "id": "GLXD-JlWtsyd",
        "outputId": "fd330547-f1be-4088-9ba4-eaa0bdb1e55d"
      },
      "source": [
        "print(knn.score(X_test,y_test))\n",
        "predict = knn.predict(X_test)\n",
        "\n",
        "print('Accuracy: ', accuracy_score(y_test,predict))\n",
        "print('Precision: ', precision_score(y_test,predict))\n",
        "print('F1 score: ', f1_score(y_test,predict))"
      ],
      "execution_count": 23,
      "outputs": [
        {
          "output_type": "stream",
          "name": "stdout",
          "text": [
            "0.96\n",
            "Accuracy:  0.96\n",
            "Precision:  0.9591836734693877\n",
            "F1 score:  0.9591836734693877\n"
          ]
        }
      ]
    },
    {
      "cell_type": "code",
      "metadata": {
        "colab": {
          "base_uri": "https://localhost:8080/",
          "height": 330
        },
        "id": "rF5hXqzQts5m",
        "outputId": "889f14cd-04b2-4142-d557-b299f6534913"
      },
      "source": [
        "disp = plot_confusion_matrix(knn, X_test, y_test,\n",
        "                              display_labels=['gusta','no gusta'],\n",
        "                              cmap=plt.cm.Blues,)\n",
        "disp.ax_.set_title('Confusion matriz')\n",
        "\n",
        "print(disp.confusion_matrix)\n"
      ],
      "execution_count": 24,
      "outputs": [
        {
          "output_type": "stream",
          "name": "stdout",
          "text": [
            "[[49  2]\n",
            " [ 2 47]]\n"
          ]
        },
        {
          "output_type": "display_data",
          "data": {
            "image/png": "[encoded data removed]",
            "text/plain": [
              "<Figure size 432x288 with 2 Axes>"
            ]
          },
          "metadata": {
            "needs_background": "light"
          }
        }
      ]
    },
    {
      "cell_type": "code",
      "metadata": {
        "id": "ij1VcVlYteb1"
      },
      "source": [
        ""
      ],
      "execution_count": 10,
      "outputs": []
    }
  ]
}