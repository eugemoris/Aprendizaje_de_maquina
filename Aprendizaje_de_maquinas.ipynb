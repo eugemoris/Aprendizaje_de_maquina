{
  "nbformat": 4,
  "nbformat_minor": 0,
  "metadata": {
    "colab": {
      "name": "Aprendizaje de maquinas.ipynb",
      "provenance": [],
      "collapsed_sections": [],
      "authorship_tag": "ABX9TyPFrKJdNehveAEm0rsHtYNj",
      "include_colab_link": true
    },
    "kernelspec": {
      "name": "python3",
      "display_name": "Python 3"
    },
    "language_info": {
      "name": "python"
    }
  },
  "cells": [
    {
      "cell_type": "markdown",
      "metadata": {
        "id": "view-in-github",
        "colab_type": "text"
      },
      "source": [
        "<a href=\"https://colab.research.google.com/github/eugemoris/Aprendizaje_de_maquina/blob/main/Aprendizaje_de_maquinas.ipynb\" target=\"_parent\"><img src=\"https://colab.research.google.com/assets/colab-badge.svg\" alt=\"Open In Colab\"/></a>"
      ]
    },
    {
      "cell_type": "code",
      "metadata": {
        "id": "peYXeSVf3x_7"
      },
      "source": [
        "import numpy as np\n",
        "import matplotlib.pyplot as plt\n",
        "\n",
        "i_x = np.array([10,8,13,9,11,14,6,4,12,7,5])\n",
        "i_y = np.array([8.04,6.95,7.58,8.81,8.33,9.96,7.24,4.26,10.84,4.82,5.68])\n",
        "\n",
        "ii_x = np.array([10,8,13,9,11,14,6,4,12,7,5])\n",
        "ii_y = np.array([9.14,8.14,8.74,8.77,9.26,8.10,6.13,3.10,9.13,7.26,4.74])\n",
        "\n",
        "iii_x = np.array([10,8,13,9,11,14,6,4,12,7,5])\n",
        "iii_y = np.array([7.46,6.77,12.74,7.11,7.81,8.84,6.08,5.39,8.15,6.42,5.73])\n",
        "\n",
        "iv_x = np.array([8,8,8,8,8,8,8,19,8,8,8])\n",
        "iv_y = np.array([6.58,5.76,7.79,8.84,8.47,7.04,5.25,12.50,5.56,7.91,6.89])\n",
        "\n",
        "p1_x = np.array([16])\n",
        "p1_y = np.array([8])\n",
        "\n",
        "p2_x = np.array([8])\n",
        "p2_y = np.array([6])\n",
        "\n",
        "p3_x = np.array([16])\n",
        "p3_y = np.array([10])\n",
        "\n",
        "p4_x = np.array([16,])\n",
        "p4_y = np.array([6,])\n",
        "\n"
      ],
      "execution_count": 33,
      "outputs": []
    },
    {
      "cell_type": "code",
      "metadata": {
        "colab": {
          "base_uri": "https://localhost:8080/",
          "height": 281
        },
        "id": "Mt8Jb5EX5aK9",
        "outputId": "81a1bfb4-10fb-446c-d271-08b8efd26432"
      },
      "source": [
        "plt.scatter(i_x,i_y)\n",
        "plt.plot(p1_x,p1_y,'or')\n",
        "plt.plot(p2_x,p2_y,'sr')\n",
        "plt.plot(p3_x,p3_y,'^r')\n",
        "plt.plot(p4_x,p4_y,'*r')\n",
        "\n",
        "\n",
        "plt.title('Dataset I')\n",
        "\n",
        "plt.show()\n"
      ],
      "execution_count": 34,
      "outputs": [
        {
          "output_type": "display_data",
          "data": {
            "image/png": "[encoded data removed]",
            "text/plain": [
              "<Figure size 432x288 with 1 Axes>"
            ]
          },
          "metadata": {
            "needs_background": "light"
          }
        }
      ]
    },
    {
      "cell_type": "markdown",
      "metadata": {
        "id": "8RtwwcMW8rzD"
      },
      "source": [
        "por descarte el punto 1 (16,8) corresponde al dataset I"
      ]
    },
    {
      "cell_type": "code",
      "metadata": {
        "colab": {
          "base_uri": "https://localhost:8080/",
          "height": 298
        },
        "id": "69rLzTpv6JEE",
        "outputId": "03b152a3-8bbe-4768-f94b-32110d8c1792"
      },
      "source": [
        "plt.scatter(ii_x,ii_y)\n",
        "plt.plot(p1_x,p1_y,'or')\n",
        "plt.plot(p2_x,p2_y,'sr')\n",
        "plt.plot(p3_x,p3_y,'^r')\n",
        "plt.plot(p4_x,p4_y,'*r')\n",
        "\n",
        "plt.title('Dataset II')"
      ],
      "execution_count": 35,
      "outputs": [
        {
          "output_type": "execute_result",
          "data": {
            "text/plain": [
              "Text(0.5, 1.0, 'Dataset II')"
            ]
          },
          "metadata": {},
          "execution_count": 35
        },
        {
          "output_type": "display_data",
          "data": {
            "image/png": "[encoded data removed]",
            "text/plain": [
              "<Figure size 432x288 with 1 Axes>"
            ]
          },
          "metadata": {
            "needs_background": "light"
          }
        }
      ]
    },
    {
      "cell_type": "markdown",
      "metadata": {
        "id": "7BaBWiKc8eui"
      },
      "source": [
        "Por la continuidad de la curva el punto 4 (16.6), corresponde al dataset II"
      ]
    },
    {
      "cell_type": "code",
      "metadata": {
        "colab": {
          "base_uri": "https://localhost:8080/",
          "height": 298
        },
        "id": "xsoEFN0N6JNb",
        "outputId": "9f0e40b5-088d-49a0-84cc-1c366ebd7e03"
      },
      "source": [
        "plt.scatter(iii_x,iii_y)\n",
        "plt.plot(p1_x,p1_y,'or')\n",
        "plt.plot(p2_x,p2_y,'sr')\n",
        "plt.plot(p3_x,p3_y,'^r')\n",
        "plt.plot(p4_x,p4_y,'*r')\n",
        "plt.title('Dataset III')"
      ],
      "execution_count": 36,
      "outputs": [
        {
          "output_type": "execute_result",
          "data": {
            "text/plain": [
              "Text(0.5, 1.0, 'Dataset III')"
            ]
          },
          "metadata": {},
          "execution_count": 36
        },
        {
          "output_type": "display_data",
          "data": {
            "image/png": "[encoded data removed]",
            "text/plain": [
              "<Figure size 432x288 with 1 Axes>"
            ]
          },
          "metadata": {
            "needs_background": "light"
          }
        }
      ]
    },
    {
      "cell_type": "markdown",
      "metadata": {
        "id": "BsOKkXSL8jWU"
      },
      "source": [
        "Pro la continuida de la recta el punto 3(16,10) es que mejor se ajusta al dataset III"
      ]
    },
    {
      "cell_type": "code",
      "metadata": {
        "colab": {
          "base_uri": "https://localhost:8080/",
          "height": 298
        },
        "id": "JnwRy9Xt6JUt",
        "outputId": "d087fc30-877f-47e0-c122-1ddb8ccbb301"
      },
      "source": [
        "plt.scatter(iv_x,iv_y)\n",
        "plt.plot(p1_x,p1_y,'or')\n",
        "plt.plot(p2_x,p2_y,'sr')\n",
        "plt.plot(p3_x,p3_y,'^r')\n",
        "plt.plot(p4_x,p4_y,'*r')\n",
        "plt.title('Dataset IV')"
      ],
      "execution_count": 37,
      "outputs": [
        {
          "output_type": "execute_result",
          "data": {
            "text/plain": [
              "Text(0.5, 1.0, 'Dataset IV')"
            ]
          },
          "metadata": {},
          "execution_count": 37
        },
        {
          "output_type": "display_data",
          "data": {
            "image/png": "[encoded data removed]",
            "text/plain": [
              "<Figure size 432x288 with 1 Axes>"
            ]
          },
          "metadata": {
            "needs_background": "light"
          }
        }
      ]
    },
    {
      "cell_type": "markdown",
      "metadata": {
        "id": "7bDxmOuA8oM2"
      },
      "source": [
        "El punto 2 (8,6) es el que mejor se ajusta al dataset IV\n",
        "\n",
        "\n",
        "\n"
      ]
    },
    {
      "cell_type": "markdown",
      "metadata": {
        "id": "VxFWqf2z__ol"
      },
      "source": [
        "Se tomaron como outlayers los puntos que se encontraban separados en el dataset III y IV "
      ]
    }
  ]
}